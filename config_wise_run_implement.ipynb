{
 "cells": [
  {
   "cell_type": "code",
   "execution_count": 5,
   "metadata": {},
   "outputs": [],
   "source": [
    "from configparser import ConfigParser\n",
    "\n",
    "config=ConfigParser()\n",
    "\n",
    "config.read('config.ini')\n",
    "\n",
    "\n",
    "encoding_dict={key:int(value) if value.isdigit() else value for key,value in config._sections['model'].items()}\n",
    "encoding_dict['enc_bidirection']=True if encoding_dict['enc_bidirection'].lower()=='true' else False\n",
    "encoding_dict['dec_bidirection']=True if encoding_dict['dec_bidirection'].lower()=='true' else False\n",
    "encoding_dict['enc_directions']=2 if encoding_dict['enc_bidirection'] else 1\n",
    "encoding_dict['dec_directions']=2 if encoding_dict['dec_bidirection'] else 1\n",
    "\n",
    "\n",
    "batch_size=int(config.get(\"training\",\"batch_size\"))\n",
    "encoding_dict['max_L']=int(config.get('training','max_length'))\n",
    "encoding_dict['luong_d']=int(config.get('luong','luong_type'))\n",
    "encoding_dict['luong_variant']=config.get('luong','luong_variant')\n",
    "epochs=int(config.get(\"training\",\"epochs\"))\n",
    "\n",
    "\n",
    "test_size=float(config.get('training','test_size'))\n",
    "if (test_size>1 or test_size<0):\n",
    "    raise ValueError(\"test_size must be a ratio\") \n",
    "\n",
    "if encoding_dict[\"attention_variant\"].lower()=='luong':\n",
    "    \n",
    "        \n",
    "        \n",
    "elif config.get(\"model\",\"attention_variant\").lower()=='bahdanau':\n",
    "    pass\n",
    "else: \n",
    "    raise ValueError(\"Attention variants can either be 'luong' or 'bahdanau'\")\n",
    "\n",
    "\n",
    "    "
   ]
  },
  {
   "cell_type": "code",
   "execution_count": 7,
   "metadata": {},
   "outputs": [
    {
     "data": {
      "text/plain": [
       "{'enc_hidden_size': 512,\n",
       " 'enc_num_layers': 2,\n",
       " 'dec_hidden_size': 512,\n",
       " 'dec_num_layers': 2,\n",
       " 'enc_bidirection': 'True',\n",
       " 'dec_bidirection': 'False',\n",
       " 'attention_variant': 'LUONG'}"
      ]
     },
     "execution_count": 7,
     "metadata": {},
     "output_type": "execute_result"
    }
   ],
   "source": [
    "{key:int(value) if value.isdigit() else value for key,value in config._sections['model'].items()}\n",
    "encoding_dict['enc_bidirection']=True if encoding_dict['enc_bidirection'].lower()=='true' else False\n",
    "encoding_dict['dec_bidirection']=True if encoding_dict['dec_bidirection'].lower()=='true' else False\n"
   ]
  },
  {
   "cell_type": "code",
   "execution_count": null,
   "metadata": {},
   "outputs": [],
   "source": []
  }
 ],
 "metadata": {
  "kernelspec": {
   "display_name": "yolov8",
   "language": "python",
   "name": "python3"
  },
  "language_info": {
   "codemirror_mode": {
    "name": "ipython",
    "version": 3
   },
   "file_extension": ".py",
   "mimetype": "text/x-python",
   "name": "python",
   "nbconvert_exporter": "python",
   "pygments_lexer": "ipython3",
   "version": "3.10.0"
  },
  "orig_nbformat": 4
 },
 "nbformat": 4,
 "nbformat_minor": 2
}
